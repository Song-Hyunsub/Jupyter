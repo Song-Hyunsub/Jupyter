{
 "cells": [
  {
   "cell_type": "markdown",
   "id": "29b3850f-d9a3-457a-b434-3e932b50c5fc",
   "metadata": {},
   "source": [
    "# 2. 동영상 출력"
   ]
  },
  {
   "cell_type": "markdown",
   "id": "c589cc35-289c-4017-bee2-dfe27748fac5",
   "metadata": {},
   "source": [
    "## 동영상 파일 출력"
   ]
  },
  {
   "cell_type": "code",
   "execution_count": 6,
   "id": "e2850a52-1993-442d-bb3b-44011ab4adbb",
   "metadata": {},
   "outputs": [
    {
     "name": "stdout",
     "output_type": "stream",
     "text": [
      "사용자 입력에 의해 종료합니다\n"
     ]
    }
   ],
   "source": [
    "import cv2\n",
    "cap = cv2.VideoCapture('video.mp4')\n",
    "\n",
    "while cap.isOpened():  # 동영상 파일이 올바로 열렸는지?\n",
    "    ret, frame = cap.read()  # ret: 성공 여부, frame: 받아온 이미지 (프레임)\n",
    "    if not ret:\n",
    "        print('더 이상 가져올 프레임이 없습니다')\n",
    "        break\n",
    "\n",
    "    cv2.imshow('video', frame)\n",
    "\n",
    "    if cv2.waitKey(1) == ord('q'):  # ord : key값을 불러오는 함수\n",
    "        print('사용자 입력에 의해 종료합니다')\n",
    "        break\n",
    "\n",
    "cap.release()  # 자원 해제\n",
    "cv2.destroyAllWindows()  # 모든 창 닫기"
   ]
  },
  {
   "cell_type": "markdown",
   "id": "a927483d-63ed-45c7-ac44-2a4438ed6a52",
   "metadata": {},
   "source": [
    "## 카메라 출력"
   ]
  },
  {
   "cell_type": "code",
   "execution_count": 9,
   "id": "2c9b0c5d-2fe1-4ba7-a88e-96e803e4f9f3",
   "metadata": {},
   "outputs": [],
   "source": [
    "import cv2\n",
    "cap = cv2.VideoCapture(0)  # 0 번째 카메라 장치 (Device ID)\n",
    "\n",
    "if not cap.isOpened():  # 카메라가 잘 열리지 않은 경우\n",
    "    exit()  # 프로그램 종료\n",
    "\n",
    "while True:\n",
    "    ret, frame = cap.read()\n",
    "    if not ret:\n",
    "        break\n",
    "\n",
    "    cv2.imshow('camera', frame)\n",
    "    if cv2.waitKey(1) == ord('q'):  # 사용자가 q를 입력하면\n",
    "        break\n",
    "\n",
    "cap.release()\n",
    "cv2.destroyAllWindows()"
   ]
  }
 ],
 "metadata": {
  "kernelspec": {
   "display_name": "Python 3 (ipykernel)",
   "language": "python",
   "name": "python3"
  },
  "language_info": {
   "codemirror_mode": {
    "name": "ipython",
    "version": 3
   },
   "file_extension": ".py",
   "mimetype": "text/x-python",
   "name": "python",
   "nbconvert_exporter": "python",
   "pygments_lexer": "ipython3",
   "version": "3.12.4"
  }
 },
 "nbformat": 4,
 "nbformat_minor": 5
}
