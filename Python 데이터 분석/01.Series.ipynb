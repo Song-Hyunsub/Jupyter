{
 "cells": [
  {
   "cell_type": "markdown",
   "id": "a5b8d7e2-1511-4fbc-b136-02a73cce24b9",
   "metadata": {},
   "source": [
    "# Pandas\n",
    "파이썬에서 사용하는 데이터 분석 라이브러리"
   ]
  },
  {
   "cell_type": "code",
   "execution_count": 2,
   "id": "97ebfbaa-9460-447d-8106-380d4aa77159",
   "metadata": {},
   "outputs": [],
   "source": [
    "import pandas as pd"
   ]
  },
  {
   "cell_type": "markdown",
   "id": "a7b727a6-a831-4406-838d-3ad6ca8d8e8f",
   "metadata": {},
   "source": [
    "# 1. Series\n",
    "1차원 데이터 (정수, 실수, 문자열 등)"
   ]
  },
  {
   "cell_type": "markdown",
   "id": "6750dc59-f882-45c5-82cc-1397f565844a",
   "metadata": {},
   "source": [
    "## Series 객체 생성\n",
    "예) 1월부터 4월까지 평균 온도 데이터 (-20, -10, 10, 20)"
   ]
  },
  {
   "cell_type": "code",
   "execution_count": 8,
   "id": "f49ace9f-ae91-47ed-a9ea-dd4d17776d91",
   "metadata": {},
   "outputs": [
    {
     "data": {
      "text/plain": [
       "0   -20\n",
       "1   -10\n",
       "2    10\n",
       "3    20\n",
       "dtype: int64"
      ]
     },
     "execution_count": 8,
     "metadata": {},
     "output_type": "execute_result"
    }
   ],
   "source": [
    "temp = pd.Series([-20, -10, 10, 20])\n",
    "temp"
   ]
  },
  {
   "cell_type": "code",
   "execution_count": 10,
   "id": "9d017a59-8491-4e7d-9ff7-c795c6521545",
   "metadata": {},
   "outputs": [
    {
     "data": {
      "text/plain": [
       "-20"
      ]
     },
     "execution_count": 10,
     "metadata": {},
     "output_type": "execute_result"
    }
   ],
   "source": [
    "temp[0] # 1월 온도"
   ]
  },
  {
   "cell_type": "code",
   "execution_count": 12,
   "id": "31c87812-c61c-4baa-826d-5a5b75c57a97",
   "metadata": {},
   "outputs": [
    {
     "data": {
      "text/plain": [
       "10"
      ]
     },
     "execution_count": 12,
     "metadata": {},
     "output_type": "execute_result"
    }
   ],
   "source": [
    "temp[2] # 3월 온도"
   ]
  },
  {
   "cell_type": "markdown",
   "id": "531aa364-d391-41a5-8541-6eb26734fe8e",
   "metadata": {},
   "source": [
    "# Series 객체 생성 (Index 지정)"
   ]
  },
  {
   "cell_type": "code",
   "execution_count": 15,
   "id": "e9f6916d-af05-4593-a45d-1d55c600fab1",
   "metadata": {},
   "outputs": [
    {
     "data": {
      "text/plain": [
       "Jan   -20\n",
       "Feb   -10\n",
       "Mar    10\n",
       "Apr    20\n",
       "dtype: int64"
      ]
     },
     "execution_count": 15,
     "metadata": {},
     "output_type": "execute_result"
    }
   ],
   "source": [
    "temp = pd.Series([-20, -10, 10, 20], index=['Jan', 'Feb', 'Mar', 'Apr'])\n",
    "temp"
   ]
  },
  {
   "cell_type": "code",
   "execution_count": 23,
   "id": "3839fbf3-b397-4d78-a28c-d1bde9f1938e",
   "metadata": {},
   "outputs": [
    {
     "data": {
      "text/plain": [
       "-20"
      ]
     },
     "execution_count": 23,
     "metadata": {},
     "output_type": "execute_result"
    }
   ],
   "source": [
    "temp['Jan'] # Index Jan (1월) 에 해당하는 데이터 출력"
   ]
  },
  {
   "cell_type": "code",
   "execution_count": 25,
   "id": "5636358f-6a20-4722-bffd-3be20a52d9e8",
   "metadata": {},
   "outputs": [
    {
     "data": {
      "text/plain": [
       "20"
      ]
     },
     "execution_count": 25,
     "metadata": {},
     "output_type": "execute_result"
    }
   ],
   "source": [
    "temp['Apr'] # Index Apr (4월) 에 해당하는 데이터 출력"
   ]
  },
  {
   "cell_type": "code",
   "execution_count": 27,
   "id": "d86ab465-aaa5-42ab-a853-23289d58b468",
   "metadata": {},
   "outputs": [],
   "source": [
    "# temp['Jun'] # 존재하지 않는 Index 접근 시도 시 에러"
   ]
  }
 ],
 "metadata": {
  "kernelspec": {
   "display_name": "Python 3 (ipykernel)",
   "language": "python",
   "name": "python3"
  },
  "language_info": {
   "codemirror_mode": {
    "name": "ipython",
    "version": 3
   },
   "file_extension": ".py",
   "mimetype": "text/x-python",
   "name": "python",
   "nbconvert_exporter": "python",
   "pygments_lexer": "ipython3",
   "version": "3.12.4"
  }
 },
 "nbformat": 4,
 "nbformat_minor": 5
}
