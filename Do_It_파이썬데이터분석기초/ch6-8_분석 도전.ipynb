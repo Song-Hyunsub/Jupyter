{
 "cells": [
  {
   "cell_type": "markdown",
   "id": "0ca12cdd-2c1c-405e-827f-0cd11ef62032",
   "metadata": {},
   "source": [
    "### [문제 1]"
   ]
  },
  {
   "cell_type": "code",
   "execution_count": 1,
   "id": "3c100076-7dd5-427d-a0f7-7c67325af31b",
   "metadata": {},
   "outputs": [],
   "source": [
    "import pandas as pd\n",
    "midwest = pd.read_csv('midwest.csv')"
   ]
  },
  {
   "cell_type": "code",
   "execution_count": 2,
   "id": "6968546f-aad9-4684-bd9e-362ad5c80701",
   "metadata": {},
   "outputs": [],
   "source": [
    "midwest['ratio'] = (midwest['poptotal'] - midwest['popadults']) / midwest['poptotal'] * 100"
   ]
  },
  {
   "cell_type": "markdown",
   "id": "6d787fcf-bff7-4091-b84e-26af4e57901c",
   "metadata": {},
   "source": [
    "### [문제 2]"
   ]
  },
  {
   "cell_type": "code",
   "execution_count": 6,
   "id": "9989cd48-2d16-4d08-8847-d7a9e1f03725",
   "metadata": {},
   "outputs": [
    {
     "data": {
      "text/html": [
       "<div>\n",
       "<style scoped>\n",
       "    .dataframe tbody tr th:only-of-type {\n",
       "        vertical-align: middle;\n",
       "    }\n",
       "\n",
       "    .dataframe tbody tr th {\n",
       "        vertical-align: top;\n",
       "    }\n",
       "\n",
       "    .dataframe thead th {\n",
       "        text-align: right;\n",
       "    }\n",
       "</style>\n",
       "<table border=\"1\" class=\"dataframe\">\n",
       "  <thead>\n",
       "    <tr style=\"text-align: right;\">\n",
       "      <th></th>\n",
       "      <th>county</th>\n",
       "      <th>ratio</th>\n",
       "    </tr>\n",
       "  </thead>\n",
       "  <tbody>\n",
       "    <tr>\n",
       "      <th>230</th>\n",
       "      <td>ISABELLA</td>\n",
       "      <td>51.501172</td>\n",
       "    </tr>\n",
       "    <tr>\n",
       "      <th>404</th>\n",
       "      <td>MENOMINEE</td>\n",
       "      <td>50.591260</td>\n",
       "    </tr>\n",
       "    <tr>\n",
       "      <th>281</th>\n",
       "      <td>ATHENS</td>\n",
       "      <td>49.320727</td>\n",
       "    </tr>\n",
       "    <tr>\n",
       "      <th>247</th>\n",
       "      <td>MECOSTA</td>\n",
       "      <td>49.059183</td>\n",
       "    </tr>\n",
       "    <tr>\n",
       "      <th>154</th>\n",
       "      <td>MONROE</td>\n",
       "      <td>47.358182</td>\n",
       "    </tr>\n",
       "  </tbody>\n",
       "</table>\n",
       "</div>"
      ],
      "text/plain": [
       "        county      ratio\n",
       "230   ISABELLA  51.501172\n",
       "404  MENOMINEE  50.591260\n",
       "281     ATHENS  49.320727\n",
       "247    MECOSTA  49.059183\n",
       "154     MONROE  47.358182"
      ]
     },
     "execution_count": 6,
     "metadata": {},
     "output_type": "execute_result"
    }
   ],
   "source": [
    "midwest.sort_values('ratio', ascending = False)\\\n",
    "       .head()[['county', 'ratio']]"
   ]
  },
  {
   "cell_type": "markdown",
   "id": "f1542d34-c9ed-4eda-85fd-ab0ca635f3a6",
   "metadata": {},
   "source": [
    "### [문제 3]"
   ]
  },
  {
   "cell_type": "code",
   "execution_count": 7,
   "id": "9a0ad040-769f-4a0b-ad7f-c93f65fb6f17",
   "metadata": {},
   "outputs": [],
   "source": [
    "import numpy as np"
   ]
  },
  {
   "cell_type": "code",
   "execution_count": 8,
   "id": "b26af132-d6c2-4adb-8c67-bd24d9765ed2",
   "metadata": {},
   "outputs": [],
   "source": [
    "midwest['grade'] = np.where(midwest['ratio']>=40, 'large', \n",
    "                   np.where(midwest['ratio']>=30, 'middle', 'small'))"
   ]
  },
  {
   "cell_type": "code",
   "execution_count": 12,
   "id": "ee5f9b1e-0f71-4e82-a5e6-ec69970a5553",
   "metadata": {},
   "outputs": [
    {
     "data": {
      "text/html": [
       "<div>\n",
       "<style scoped>\n",
       "    .dataframe tbody tr th:only-of-type {\n",
       "        vertical-align: middle;\n",
       "    }\n",
       "\n",
       "    .dataframe tbody tr th {\n",
       "        vertical-align: top;\n",
       "    }\n",
       "\n",
       "    .dataframe thead th {\n",
       "        text-align: right;\n",
       "    }\n",
       "</style>\n",
       "<table border=\"1\" class=\"dataframe\">\n",
       "  <thead>\n",
       "    <tr style=\"text-align: right;\">\n",
       "      <th></th>\n",
       "      <th>n</th>\n",
       "    </tr>\n",
       "    <tr>\n",
       "      <th>grade</th>\n",
       "      <th></th>\n",
       "    </tr>\n",
       "  </thead>\n",
       "  <tbody>\n",
       "    <tr>\n",
       "      <th>large</th>\n",
       "      <td>32</td>\n",
       "    </tr>\n",
       "    <tr>\n",
       "      <th>middle</th>\n",
       "      <td>396</td>\n",
       "    </tr>\n",
       "    <tr>\n",
       "      <th>small</th>\n",
       "      <td>9</td>\n",
       "    </tr>\n",
       "  </tbody>\n",
       "</table>\n",
       "</div>"
      ],
      "text/plain": [
       "          n\n",
       "grade      \n",
       "large    32\n",
       "middle  396\n",
       "small     9"
      ]
     },
     "execution_count": 12,
     "metadata": {},
     "output_type": "execute_result"
    }
   ],
   "source": [
    "# 방법 1\n",
    "midwest.groupby('grade')\\\n",
    "       .agg(n = ('grade', 'count'))"
   ]
  },
  {
   "cell_type": "code",
   "execution_count": 11,
   "id": "19e62ba0-cd51-4202-9ebb-db1ff1bc4c00",
   "metadata": {},
   "outputs": [
    {
     "data": {
      "text/plain": [
       "grade\n",
       "middle    396\n",
       "large      32\n",
       "small       9\n",
       "Name: count, dtype: int64"
      ]
     },
     "execution_count": 11,
     "metadata": {},
     "output_type": "execute_result"
    }
   ],
   "source": [
    "# 방법 2\n",
    "midwest['grade'].value_counts()"
   ]
  },
  {
   "cell_type": "markdown",
   "id": "3792c5c2-f93c-4cf1-b8ad-87dc4983fce4",
   "metadata": {},
   "source": [
    "### [문제 4]"
   ]
  },
  {
   "cell_type": "code",
   "execution_count": 15,
   "id": "a7776f18-3b68-49ac-99b7-50deea90069e",
   "metadata": {},
   "outputs": [
    {
     "data": {
      "text/html": [
       "<div>\n",
       "<style scoped>\n",
       "    .dataframe tbody tr th:only-of-type {\n",
       "        vertical-align: middle;\n",
       "    }\n",
       "\n",
       "    .dataframe tbody tr th {\n",
       "        vertical-align: top;\n",
       "    }\n",
       "\n",
       "    .dataframe thead th {\n",
       "        text-align: right;\n",
       "    }\n",
       "</style>\n",
       "<table border=\"1\" class=\"dataframe\">\n",
       "  <thead>\n",
       "    <tr style=\"text-align: right;\">\n",
       "      <th></th>\n",
       "      <th>state</th>\n",
       "      <th>county</th>\n",
       "      <th>ratio_asian</th>\n",
       "    </tr>\n",
       "  </thead>\n",
       "  <tbody>\n",
       "    <tr>\n",
       "      <th>404</th>\n",
       "      <td>WI</td>\n",
       "      <td>MENOMINEE</td>\n",
       "      <td>0.000000</td>\n",
       "    </tr>\n",
       "    <tr>\n",
       "      <th>105</th>\n",
       "      <td>IN</td>\n",
       "      <td>BENTON</td>\n",
       "      <td>0.010592</td>\n",
       "    </tr>\n",
       "    <tr>\n",
       "      <th>109</th>\n",
       "      <td>IN</td>\n",
       "      <td>CARROLL</td>\n",
       "      <td>0.015950</td>\n",
       "    </tr>\n",
       "    <tr>\n",
       "      <th>358</th>\n",
       "      <td>OH</td>\n",
       "      <td>VINTON</td>\n",
       "      <td>0.027032</td>\n",
       "    </tr>\n",
       "    <tr>\n",
       "      <th>390</th>\n",
       "      <td>WI</td>\n",
       "      <td>IRON</td>\n",
       "      <td>0.032504</td>\n",
       "    </tr>\n",
       "    <tr>\n",
       "      <th>85</th>\n",
       "      <td>IL</td>\n",
       "      <td>SCOTT</td>\n",
       "      <td>0.053154</td>\n",
       "    </tr>\n",
       "    <tr>\n",
       "      <th>112</th>\n",
       "      <td>IN</td>\n",
       "      <td>CLAY</td>\n",
       "      <td>0.060716</td>\n",
       "    </tr>\n",
       "    <tr>\n",
       "      <th>261</th>\n",
       "      <td>MI</td>\n",
       "      <td>OSCODA</td>\n",
       "      <td>0.063759</td>\n",
       "    </tr>\n",
       "    <tr>\n",
       "      <th>340</th>\n",
       "      <td>OH</td>\n",
       "      <td>PERRY</td>\n",
       "      <td>0.066546</td>\n",
       "    </tr>\n",
       "    <tr>\n",
       "      <th>73</th>\n",
       "      <td>IL</td>\n",
       "      <td>PIATT</td>\n",
       "      <td>0.070749</td>\n",
       "    </tr>\n",
       "  </tbody>\n",
       "</table>\n",
       "</div>"
      ],
      "text/plain": [
       "    state     county  ratio_asian\n",
       "404    WI  MENOMINEE     0.000000\n",
       "105    IN     BENTON     0.010592\n",
       "109    IN    CARROLL     0.015950\n",
       "358    OH     VINTON     0.027032\n",
       "390    WI       IRON     0.032504\n",
       "85     IL      SCOTT     0.053154\n",
       "112    IN       CLAY     0.060716\n",
       "261    MI     OSCODA     0.063759\n",
       "340    OH      PERRY     0.066546\n",
       "73     IL      PIATT     0.070749"
      ]
     },
     "execution_count": 15,
     "metadata": {},
     "output_type": "execute_result"
    }
   ],
   "source": [
    "# 백분율 변수 추가\n",
    "# 내림차순 정렬\n",
    "# 상위 10행 출력\n",
    "# 변수 추출\n",
    "midwest.assign(ratio_asian = midwest['popasian'] / midwest['poptotal'] * 100)\\\n",
    "       .sort_values('ratio_asian')\\\n",
    "       .head(10)[['state', 'county', 'ratio_asian']]"
   ]
  }
 ],
 "metadata": {
  "kernelspec": {
   "display_name": "Python 3 (ipykernel)",
   "language": "python",
   "name": "python3"
  },
  "language_info": {
   "codemirror_mode": {
    "name": "ipython",
    "version": 3
   },
   "file_extension": ".py",
   "mimetype": "text/x-python",
   "name": "python",
   "nbconvert_exporter": "python",
   "pygments_lexer": "ipython3",
   "version": "3.12.4"
  }
 },
 "nbformat": 4,
 "nbformat_minor": 5
}
