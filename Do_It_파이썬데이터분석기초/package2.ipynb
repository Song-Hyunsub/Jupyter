{
 "cells": [
  {
   "cell_type": "code",
   "execution_count": null,
   "id": "b67ef60e-9fc2-40a2-9da2-07f345ea8e56",
   "metadata": {},
   "outputs": [],
   "source": [
    "# Anaconda Prompt에 들어가서\n",
    "# pip install pydataset"
   ]
  }
 ],
 "metadata": {
  "kernelspec": {
   "display_name": "Python 3 (ipykernel)",
   "language": "python",
   "name": "python3"
  },
  "language_info": {
   "codemirror_mode": {
    "name": "ipython",
    "version": 3
   },
   "file_extension": ".py",
   "mimetype": "text/x-python",
   "name": "python",
   "nbconvert_exporter": "python",
   "pygments_lexer": "ipython3",
   "version": "3.12.4"
  }
 },
 "nbformat": 4,
 "nbformat_minor": 5
}
