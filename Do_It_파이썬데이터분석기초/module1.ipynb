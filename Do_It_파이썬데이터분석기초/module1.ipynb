{
 "cells": [
  {
   "cell_type": "code",
   "execution_count": 1,
   "id": "cea9a0d1-8cb3-4938-8740-09dcbdc0c520",
   "metadata": {},
   "outputs": [],
   "source": [
    "# sklearn 패키지의 metrics 모듈 로드하기\n",
    "import sklearn.metrics"
   ]
  },
  {
   "cell_type": "code",
   "execution_count": 15,
   "id": "4de6f057-df1b-4385-aac7-4f68773243c6",
   "metadata": {},
   "outputs": [],
   "source": [
    "# sklearn 패키지 metrics 모듈의 accuracy_score() 사용하기\n",
    "# sklearn.metrics.accuracy_score(...)"
   ]
  },
  {
   "cell_type": "code",
   "execution_count": 17,
   "id": "bb0181fe-bf6e-4201-89cb-421c7d298e08",
   "metadata": {},
   "outputs": [],
   "source": [
    "# sklearn 패키지 metrics 모듈 로드하기\n",
    "from sklearn import metrics\n",
    "# metrics.accuracy_score(...)"
   ]
  },
  {
   "cell_type": "code",
   "execution_count": 13,
   "id": "9b9b4bf0-683d-416e-8837-c09a70097616",
   "metadata": {},
   "outputs": [],
   "source": [
    "# sklearn 패키지 metrics 모듈의 accuracy_score() 로드하기\n",
    "from sklearn.metrics import accuracy_score\n",
    "# accuracy_score(...)"
   ]
  },
  {
   "cell_type": "code",
   "execution_count": null,
   "id": "e11df934-cc84-46d8-8dd1-af329af78dd2",
   "metadata": {},
   "outputs": [],
   "source": [
    "import sklearn.me"
   ]
  }
 ],
 "metadata": {
  "kernelspec": {
   "display_name": "Python 3 (ipykernel)",
   "language": "python",
   "name": "python3"
  },
  "language_info": {
   "codemirror_mode": {
    "name": "ipython",
    "version": 3
   },
   "file_extension": ".py",
   "mimetype": "text/x-python",
   "name": "python",
   "nbconvert_exporter": "python",
   "pygments_lexer": "ipython3",
   "version": "3.12.4"
  }
 },
 "nbformat": 4,
 "nbformat_minor": 5
}
